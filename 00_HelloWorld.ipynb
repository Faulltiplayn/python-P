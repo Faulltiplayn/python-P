{
  "nbformat": 4,
  "nbformat_minor": 0,
  "metadata": {
    "colab": {
      "provenance": []
    },
    "kernelspec": {
      "name": "python3",
      "display_name": "Python 3"
    },
    "language_info": {
      "name": "python"
    }
  },
  "cells": [
    {
      "cell_type": "code",
      "execution_count": null,
      "metadata": {
        "id": "YSt2yGDunmQX"
      },
      "outputs": [],
      "source": [
        "### Variables ###\n",
        "my string variable = \"My string variable\"\n",
        "print(my_string__variable)\n",
        "\n",
        "my_int_variable = 5\n",
        "print(my_int_variable)\n",
        "\n",
        "my_int_to_str_variable = str(my_int_variable)\n",
        "print(my_int_to_str_variable)\n",
        "print(type(my_int_to_str_variable))\n",
        "\n",
        "my_bool_variable = Falce"
      ]
    },
    {
      "cell_type": "markdown",
      "source": [
        "# Sección nueva"
      ],
      "metadata": {
        "id": "V35ubwGiPJ0E"
      }
    },
    {
      "cell_type": "markdown",
      "source": [],
      "metadata": {
        "id": "IlsTufm5nqpw"
      }
    }
  ]
}